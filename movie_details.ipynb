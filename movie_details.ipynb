{
 "cells": [
  {
   "cell_type": "code",
   "execution_count": 31,
   "id": "6fc3953d",
   "metadata": {},
   "outputs": [],
   "source": [
    "import pandas as pd\n",
    "import pickle"
   ]
  },
  {
   "cell_type": "code",
   "execution_count": 32,
   "id": "7219d3fe",
   "metadata": {},
   "outputs": [],
   "source": [
    "movie_df = pd.read_csv(\"mymoviedb.csv\",lineterminator='\\n')"
   ]
  },
  {
   "cell_type": "code",
   "execution_count": 33,
   "id": "3e2dc158",
   "metadata": {},
   "outputs": [
    {
     "data": {
      "text/html": [
       "<div>\n",
       "<style scoped>\n",
       "    .dataframe tbody tr th:only-of-type {\n",
       "        vertical-align: middle;\n",
       "    }\n",
       "\n",
       "    .dataframe tbody tr th {\n",
       "        vertical-align: top;\n",
       "    }\n",
       "\n",
       "    .dataframe thead th {\n",
       "        text-align: right;\n",
       "    }\n",
       "</style>\n",
       "<table border=\"1\" class=\"dataframe\">\n",
       "  <thead>\n",
       "    <tr style=\"text-align: right;\">\n",
       "      <th></th>\n",
       "      <th>Release_Date</th>\n",
       "      <th>Title</th>\n",
       "      <th>Overview</th>\n",
       "      <th>Popularity</th>\n",
       "      <th>Vote_Count</th>\n",
       "      <th>Vote_Average</th>\n",
       "      <th>Original_Language</th>\n",
       "      <th>Genre</th>\n",
       "      <th>Poster_Url</th>\n",
       "    </tr>\n",
       "  </thead>\n",
       "  <tbody>\n",
       "    <tr>\n",
       "      <th>0</th>\n",
       "      <td>2021-12-15</td>\n",
       "      <td>Spider-Man: No Way Home</td>\n",
       "      <td>Peter Parker is unmasked and no longer able to...</td>\n",
       "      <td>5083.954</td>\n",
       "      <td>8940</td>\n",
       "      <td>8.3</td>\n",
       "      <td>en</td>\n",
       "      <td>Action, Adventure, Science Fiction</td>\n",
       "      <td>https://image.tmdb.org/t/p/original/1g0dhYtq4i...</td>\n",
       "    </tr>\n",
       "  </tbody>\n",
       "</table>\n",
       "</div>"
      ],
      "text/plain": [
       "  Release_Date                    Title  \\\n",
       "0   2021-12-15  Spider-Man: No Way Home   \n",
       "\n",
       "                                            Overview  Popularity  Vote_Count  \\\n",
       "0  Peter Parker is unmasked and no longer able to...    5083.954        8940   \n",
       "\n",
       "   Vote_Average Original_Language                               Genre  \\\n",
       "0           8.3                en  Action, Adventure, Science Fiction   \n",
       "\n",
       "                                          Poster_Url  \n",
       "0  https://image.tmdb.org/t/p/original/1g0dhYtq4i...  "
      ]
     },
     "execution_count": 33,
     "metadata": {},
     "output_type": "execute_result"
    }
   ],
   "source": [
    "movie_df.head(1)"
   ]
  },
  {
   "cell_type": "code",
   "execution_count": 34,
   "id": "7e9d2333",
   "metadata": {},
   "outputs": [],
   "source": [
    "movie_df = movie_df[['Release_Date','Title','Genre','Overview']]"
   ]
  },
  {
   "cell_type": "code",
   "execution_count": 35,
   "id": "d1d20fae",
   "metadata": {},
   "outputs": [
    {
     "data": {
      "text/html": [
       "<div>\n",
       "<style scoped>\n",
       "    .dataframe tbody tr th:only-of-type {\n",
       "        vertical-align: middle;\n",
       "    }\n",
       "\n",
       "    .dataframe tbody tr th {\n",
       "        vertical-align: top;\n",
       "    }\n",
       "\n",
       "    .dataframe thead th {\n",
       "        text-align: right;\n",
       "    }\n",
       "</style>\n",
       "<table border=\"1\" class=\"dataframe\">\n",
       "  <thead>\n",
       "    <tr style=\"text-align: right;\">\n",
       "      <th></th>\n",
       "      <th>Release_Date</th>\n",
       "      <th>Title</th>\n",
       "      <th>Genre</th>\n",
       "      <th>Overview</th>\n",
       "    </tr>\n",
       "  </thead>\n",
       "  <tbody>\n",
       "    <tr>\n",
       "      <th>0</th>\n",
       "      <td>2021-12-15</td>\n",
       "      <td>Spider-Man: No Way Home</td>\n",
       "      <td>Action, Adventure, Science Fiction</td>\n",
       "      <td>Peter Parker is unmasked and no longer able to...</td>\n",
       "    </tr>\n",
       "    <tr>\n",
       "      <th>1</th>\n",
       "      <td>2022-03-01</td>\n",
       "      <td>The Batman</td>\n",
       "      <td>Crime, Mystery, Thriller</td>\n",
       "      <td>In his second year of fighting crime, Batman u...</td>\n",
       "    </tr>\n",
       "    <tr>\n",
       "      <th>2</th>\n",
       "      <td>2022-02-25</td>\n",
       "      <td>No Exit</td>\n",
       "      <td>Thriller</td>\n",
       "      <td>Stranded at a rest stop in the mountains durin...</td>\n",
       "    </tr>\n",
       "    <tr>\n",
       "      <th>3</th>\n",
       "      <td>2021-11-24</td>\n",
       "      <td>Encanto</td>\n",
       "      <td>Animation, Comedy, Family, Fantasy</td>\n",
       "      <td>The tale of an extraordinary family, the Madri...</td>\n",
       "    </tr>\n",
       "    <tr>\n",
       "      <th>4</th>\n",
       "      <td>2021-12-22</td>\n",
       "      <td>The King's Man</td>\n",
       "      <td>Action, Adventure, Thriller, War</td>\n",
       "      <td>As a collection of history's worst tyrants and...</td>\n",
       "    </tr>\n",
       "    <tr>\n",
       "      <th>...</th>\n",
       "      <td>...</td>\n",
       "      <td>...</td>\n",
       "      <td>...</td>\n",
       "      <td>...</td>\n",
       "    </tr>\n",
       "    <tr>\n",
       "      <th>9822</th>\n",
       "      <td>1973-10-15</td>\n",
       "      <td>Badlands</td>\n",
       "      <td>Drama, Crime</td>\n",
       "      <td>A dramatization of the Starkweather-Fugate kil...</td>\n",
       "    </tr>\n",
       "    <tr>\n",
       "      <th>9823</th>\n",
       "      <td>2020-10-01</td>\n",
       "      <td>Violent Delights</td>\n",
       "      <td>Horror</td>\n",
       "      <td>A female vampire falls in love with a man she ...</td>\n",
       "    </tr>\n",
       "    <tr>\n",
       "      <th>9824</th>\n",
       "      <td>2016-05-06</td>\n",
       "      <td>The Offering</td>\n",
       "      <td>Mystery, Thriller, Horror</td>\n",
       "      <td>When young and successful reporter Jamie finds...</td>\n",
       "    </tr>\n",
       "    <tr>\n",
       "      <th>9825</th>\n",
       "      <td>2021-03-31</td>\n",
       "      <td>The United States vs. Billie Holiday</td>\n",
       "      <td>Music, Drama, History</td>\n",
       "      <td>Billie Holiday spent much of her career being ...</td>\n",
       "    </tr>\n",
       "    <tr>\n",
       "      <th>9826</th>\n",
       "      <td>1984-09-23</td>\n",
       "      <td>Threads</td>\n",
       "      <td>War, Drama, Science Fiction</td>\n",
       "      <td>Documentary style account of a nuclear holocau...</td>\n",
       "    </tr>\n",
       "  </tbody>\n",
       "</table>\n",
       "<p>9827 rows × 4 columns</p>\n",
       "</div>"
      ],
      "text/plain": [
       "     Release_Date                                 Title  \\\n",
       "0      2021-12-15               Spider-Man: No Way Home   \n",
       "1      2022-03-01                            The Batman   \n",
       "2      2022-02-25                               No Exit   \n",
       "3      2021-11-24                               Encanto   \n",
       "4      2021-12-22                        The King's Man   \n",
       "...           ...                                   ...   \n",
       "9822   1973-10-15                              Badlands   \n",
       "9823   2020-10-01                      Violent Delights   \n",
       "9824   2016-05-06                          The Offering   \n",
       "9825   2021-03-31  The United States vs. Billie Holiday   \n",
       "9826   1984-09-23                               Threads   \n",
       "\n",
       "                                   Genre  \\\n",
       "0     Action, Adventure, Science Fiction   \n",
       "1               Crime, Mystery, Thriller   \n",
       "2                               Thriller   \n",
       "3     Animation, Comedy, Family, Fantasy   \n",
       "4       Action, Adventure, Thriller, War   \n",
       "...                                  ...   \n",
       "9822                        Drama, Crime   \n",
       "9823                              Horror   \n",
       "9824           Mystery, Thriller, Horror   \n",
       "9825               Music, Drama, History   \n",
       "9826         War, Drama, Science Fiction   \n",
       "\n",
       "                                               Overview  \n",
       "0     Peter Parker is unmasked and no longer able to...  \n",
       "1     In his second year of fighting crime, Batman u...  \n",
       "2     Stranded at a rest stop in the mountains durin...  \n",
       "3     The tale of an extraordinary family, the Madri...  \n",
       "4     As a collection of history's worst tyrants and...  \n",
       "...                                                 ...  \n",
       "9822  A dramatization of the Starkweather-Fugate kil...  \n",
       "9823  A female vampire falls in love with a man she ...  \n",
       "9824  When young and successful reporter Jamie finds...  \n",
       "9825  Billie Holiday spent much of her career being ...  \n",
       "9826  Documentary style account of a nuclear holocau...  \n",
       "\n",
       "[9827 rows x 4 columns]"
      ]
     },
     "execution_count": 35,
     "metadata": {},
     "output_type": "execute_result"
    }
   ],
   "source": [
    "movie_df"
   ]
  },
  {
   "cell_type": "code",
   "execution_count": 26,
   "id": "c9987376",
   "metadata": {},
   "outputs": [],
   "source": [
    "pickle.dump(movie_df,open('movie_data.pkl','wb'))"
   ]
  },
  {
   "cell_type": "code",
   "execution_count": 40,
   "id": "3799e5e1",
   "metadata": {},
   "outputs": [
    {
     "data": {
      "text/plain": [
       "1    In his second year of fighting crime, Batman u...\n",
       "Name: Overview, dtype: object"
      ]
     },
     "execution_count": 40,
     "metadata": {},
     "output_type": "execute_result"
    }
   ],
   "source": [
    "movie_df[movie_data['Title'] == 'The Batman']['Overview']"
   ]
  },
  {
   "cell_type": "code",
   "execution_count": null,
   "id": "9470f658",
   "metadata": {},
   "outputs": [],
   "source": []
  }
 ],
 "metadata": {
  "kernelspec": {
   "display_name": "Python 3 (ipykernel)",
   "language": "python",
   "name": "python3"
  },
  "language_info": {
   "codemirror_mode": {
    "name": "ipython",
    "version": 3
   },
   "file_extension": ".py",
   "mimetype": "text/x-python",
   "name": "python",
   "nbconvert_exporter": "python",
   "pygments_lexer": "ipython3",
   "version": "3.11.0"
  },
  "vscode": {
   "interpreter": {
    "hash": "1f6a27bcfbe46a917dbd192f4a82657396dda26148bae633192e8d28c70725f1"
   }
  }
 },
 "nbformat": 4,
 "nbformat_minor": 5
}
